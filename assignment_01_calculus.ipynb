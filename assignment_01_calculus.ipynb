{
  "cells": [
    {
      "cell_type": "markdown",
      "metadata": {
        "id": "view-in-github",
        "colab_type": "text"
      },
      "source": [
        "<a href=\"https://colab.research.google.com/github/prestonbourne/calculus-w-python/blob/main/assignment_01_calculus.ipynb\" target=\"_parent\"><img src=\"https://colab.research.google.com/assets/colab-badge.svg\" alt=\"Open In Colab\"/></a>"
      ]
    },
    {
      "cell_type": "markdown",
      "metadata": {
        "id": "LzE4_h_uiPCE"
      },
      "source": [
        "# Problem Set I\n",
        "\n",
        "You are to either write your completed solution in the solution cell if it is a text based question and code if it is a code question."
      ]
    },
    {
      "cell_type": "markdown",
      "metadata": {
        "id": "jd620PQtimbA"
      },
      "source": [
        "### Question 1: Addition\n",
        "\n",
        "- What kind of number will an even number plus an even number return; even or odd?  Why?\n",
        "- What is the sum of an even number and odd number?  Explain.\n"
      ]
    },
    {
      "cell_type": "code",
      "source": [],
      "metadata": {
        "id": "exytj71hkXYZ"
      },
      "execution_count": null,
      "outputs": []
    },
    {
      "cell_type": "code",
      "source": [],
      "metadata": {
        "id": "t3Cv0zsHkXU9"
      },
      "execution_count": null,
      "outputs": []
    },
    {
      "cell_type": "code",
      "source": [],
      "metadata": {
        "id": "YQnNrPp4kXR2"
      },
      "execution_count": null,
      "outputs": []
    },
    {
      "cell_type": "markdown",
      "metadata": {
        "id": "qO4F4_QDjMrf"
      },
      "source": [
        "### Question 2: Multiplication\n",
        "\n",
        "\n",
        "\n",
        "*   What kind of number will an even number times an even number return?  Explain.\n",
        "*   Odd times Odd?\n",
        "- Even times Odd?\n",
        "\n"
      ]
    },
    {
      "cell_type": "code",
      "source": [],
      "metadata": {
        "id": "4TRohjG9kX7x"
      },
      "execution_count": null,
      "outputs": []
    },
    {
      "cell_type": "code",
      "source": [],
      "metadata": {
        "id": "qu2oTGAKkX4p"
      },
      "execution_count": null,
      "outputs": []
    },
    {
      "cell_type": "code",
      "source": [],
      "metadata": {
        "id": "ZoZP8RQckX1f"
      },
      "execution_count": null,
      "outputs": []
    },
    {
      "cell_type": "markdown",
      "metadata": {
        "id": "lTnqGl94jfpa"
      },
      "source": [
        "### Question 3: Descartes\n",
        "\n",
        "Read through the first 10 pages of Descartes Geometry [here](https://archive.org/details/TheGeometry/page/n13).  Your goal is to first understand his visual approach to multiplication and square root extraction.  Use his approach to demonstrate:\n",
        "\n",
        "- Construction of $3 \\times 4$\n",
        "- Construction of $\\sqrt{7}$ ([here](https://www.maa.org/press/periodicals/convergence/descartes-method-for-constructing-roots-of-polynomials-with-simple-curves-history-of-constructing) is an extra visual for this)"
      ]
    },
    {
      "cell_type": "code",
      "source": [],
      "metadata": {
        "id": "rXQX4Up4kYq5"
      },
      "execution_count": null,
      "outputs": []
    },
    {
      "cell_type": "code",
      "source": [],
      "metadata": {
        "id": "gKQ5695bkYoB"
      },
      "execution_count": null,
      "outputs": []
    },
    {
      "cell_type": "code",
      "source": [],
      "metadata": {
        "id": "VGoo7NY1kYlK"
      },
      "execution_count": null,
      "outputs": []
    },
    {
      "cell_type": "markdown",
      "metadata": {
        "id": "MOTcWdpLnG5R"
      },
      "source": [
        "### Question 4: Babylonian Algorithm for Square Root\n",
        "\n",
        "Read the Wikipedia entry on the Babylonian square root algorithm [here](https://en.wikipedia.org/wiki/Methods_of_computing_square_roots#Babylonian_method).  Why is it so that \"if x is an overestimate to the square root of a non-negative real number S then $\\frac{S}{x}$ is an underestimate\"? How do we use this to approximate $\\sqrt{2}$?\n",
        "\n"
      ]
    },
    {
      "cell_type": "code",
      "source": [],
      "metadata": {
        "id": "5FZV0r6BkZPG"
      },
      "execution_count": null,
      "outputs": []
    },
    {
      "cell_type": "code",
      "source": [],
      "metadata": {
        "id": "jN54ZHOdkZMv"
      },
      "execution_count": null,
      "outputs": []
    },
    {
      "cell_type": "code",
      "source": [],
      "metadata": {
        "id": "8MFFBOX1kZKK"
      },
      "execution_count": null,
      "outputs": []
    },
    {
      "cell_type": "markdown",
      "metadata": {
        "id": "BbDuMzmHkS6Z"
      },
      "source": [
        "### Question 5: Perkins Reading\n",
        "\n",
        "Read over and answer the questions 1.1, 1.2, and 1.3 the Perkins text (available in the library as *Calculus and its Origins* [here](https://ebookcentral-proquest-com.libproxy.newschool.edu/lib/newschool/detail.action?docID=3330341) ).\n"
      ]
    },
    {
      "cell_type": "code",
      "source": [],
      "metadata": {
        "id": "YpT8BkSUkaC5"
      },
      "execution_count": null,
      "outputs": []
    },
    {
      "cell_type": "code",
      "source": [],
      "metadata": {
        "id": "V-8mmY5zkaAE"
      },
      "execution_count": null,
      "outputs": []
    },
    {
      "cell_type": "code",
      "source": [],
      "metadata": {
        "id": "YKrUJl09kZ9c"
      },
      "execution_count": null,
      "outputs": []
    },
    {
      "cell_type": "markdown",
      "metadata": {
        "id": "IsxzOAAhkS6Z"
      },
      "source": [
        "### Problem 6: Online Encyclopedia of Integer Sequences\n",
        "\n",
        "A very nice website is the [Online Encyclopedia of Integer Sequences](https://oeis.org/wiki/Welcome).  Please head over to the site and explore a bit.  Locate a sequence of interest to you and discuss what you find including a definition of the sequence either recursive or closed form."
      ]
    },
    {
      "cell_type": "code",
      "source": [],
      "metadata": {
        "id": "5tbGUc28ka1s"
      },
      "execution_count": null,
      "outputs": []
    },
    {
      "cell_type": "code",
      "source": [],
      "metadata": {
        "id": "aILFDAmRkayk"
      },
      "execution_count": null,
      "outputs": []
    },
    {
      "cell_type": "code",
      "source": [],
      "metadata": {
        "id": "XwiF6vBwkavc"
      },
      "execution_count": null,
      "outputs": []
    },
    {
      "cell_type": "markdown",
      "metadata": {
        "id": "0QFP_-ADkS6a"
      },
      "source": [
        "### Problem 7: Recaman Sequence Video\n",
        "\n",
        "A famous example of an integer sequence that has received more modern treatment is the Recaman sequence.  Please watch the video from Numberphile below and write a brief description of how the sequence looks and sounds.  Can you find any other interesting sounding sequences in the encyclopedia?  "
      ]
    },
    {
      "cell_type": "code",
      "execution_count": null,
      "metadata": {
        "id": "hDuAV2A5kS6a"
      },
      "outputs": [],
      "source": [
        "from IPython.display import YouTubeVideo"
      ]
    },
    {
      "cell_type": "code",
      "execution_count": null,
      "metadata": {
        "id": "YgFhZZHckS6b",
        "outputId": "b3b01bff-8f1c-42da-8712-f5f29458ae8d"
      },
      "outputs": [
        {
          "data": {
            "image/jpeg": "[encoded data removed]",
            "text/html": [
              "\n",
              "        <iframe\n",
              "            width=\"600\"\n",
              "            height=\"300\"\n",
              "            src=\"https://www.youtube.com/embed/FGC5TdIiT9U\"\n",
              "            frameborder=\"0\"\n",
              "            allowfullscreen\n",
              "        ></iframe>\n",
              "        "
            ],
            "text/plain": [
              "<IPython.lib.display.YouTubeVideo at 0x7fe0aaef9040>"
            ]
          },
          "execution_count": 2,
          "metadata": {},
          "output_type": "execute_result"
        }
      ],
      "source": [
        "YouTubeVideo(id = 'FGC5TdIiT9U', width = 600, height = 300)"
      ]
    },
    {
      "cell_type": "markdown",
      "metadata": {
        "id": "ZC567oYckS6c"
      },
      "source": [
        "### Problem 8: Making a Sequence\n",
        "\n",
        "In the video on the Recamán sequence, the presenter said that Recamán \"created\" this sequence.  While many sequences exist, let us pretend we don't know and attempt to create a new sequence based on a recursive rule of your choice.  After you create the sequence, search the encyclopedia for terms and names of the sequence.  How does it sound?  What is its name and is there any interesting history about the sequence?"
      ]
    },
    {
      "cell_type": "code",
      "execution_count": null,
      "metadata": {
        "id": "MetyV5ezkS6c"
      },
      "outputs": [],
      "source": []
    }
  ],
  "metadata": {
    "colab": {
      "provenance": [],
      "include_colab_link": true
    },
    "kernelspec": {
      "display_name": "Python 3",
      "language": "python",
      "name": "python3"
    },
    "language_info": {
      "codemirror_mode": {
        "name": "ipython",
        "version": 3
      },
      "file_extension": ".py",
      "mimetype": "text/x-python",
      "name": "python",
      "nbconvert_exporter": "python",
      "pygments_lexer": "ipython3",
      "version": "3.8.3"
    }
  },
  "nbformat": 4,
  "nbformat_minor": 0
}