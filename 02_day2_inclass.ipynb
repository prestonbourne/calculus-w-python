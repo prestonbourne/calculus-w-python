{
  "cells": [
    {
      "cell_type": "markdown",
      "metadata": {
        "id": "view-in-github",
        "colab_type": "text"
      },
      "source": [
        "<a href=\"https://colab.research.google.com/github/prestonbourne/calculus-w-python/blob/main/02_day2_inclass.ipynb\" target=\"_parent\"><img src=\"https://colab.research.google.com/assets/colab-badge.svg\" alt=\"Open In Colab\"/></a>"
      ]
    },
    {
      "cell_type": "markdown",
      "metadata": {
        "id": "UhY6AroAphVo"
      },
      "source": [
        "<script>\n",
        "  (function(i,s,o,g,r,a,m){i['GoogleAnalyticsObject']=r;i[r]=i[r]||function(){\n",
        "  (i[r].q=i[r].q||[]).push(arguments)},i[r].l=1*new Date();a=s.createElement(o),\n",
        "  m=s.getElementsByTagName(o)[0];a.async=1;a.src=g;m.parentNode.insertBefore(a,m)\n",
        "  })(window,document,'script','https://www.google-analytics.com/analytics.js','ga');\n",
        "\n",
        "  ga('create', 'UA-50838873-3', 'auto');\n",
        "  ga('send', 'pageview');\n",
        "\n",
        "</script>"
      ]
    },
    {
      "cell_type": "markdown",
      "metadata": {
        "id": "6agBOZ_GphVp"
      },
      "source": [
        "# Introduction to Infinite Processes\n",
        "\n",
        "This notebook introduces two of the earliest known examples of mathematics motivated by the difficulty of representation.  Both $\\sqrt{2}$ and $\\pi$ are problematic numbers.  We can easily describe them geometrically, but when it comes to actually representing them with numbers in decimal form, the best we can do is approximate them.  \n",
        "\n",
        "\n",
        "**GOALS**:\n",
        "\n",
        "- Use Babylonian Square Root Algorithm to approximate irrational numbers by hand.\n",
        "\n",
        "- Use the Method of Exhaustion to approximate Pi\n",
        "\n",
        "- Represent Zeno's Paradox of the Tortoise and Achilles.\n",
        "\n",
        "\n",
        "\n",
        "\n",
        "\n",
        "\n"
      ]
    },
    {
      "cell_type": "markdown",
      "metadata": {
        "id": "sowmY88SphVp"
      },
      "source": [
        "### Sequences and Notation\n",
        "\n",
        "$$1, 2, 3, 4, ...$$\n",
        "\n",
        "Typically a sequence is named, and subscripts are used to refer to individual elements of the sequence.  For example, the original sequence could be named $a$:\n",
        "\n",
        "$$a = 1, 2, 3, 4, ...$$\n",
        "\n",
        "and we have:\n",
        "\n",
        "$$a_1 = 1, a_2 = 2, a_3 = 3, ...$$\n",
        "\n",
        "One way to define a sequence is to specify a starting point, and operations on that term to produce successive terms.  In words, you may have something like:\n",
        "\n",
        "- start at one, add one each time\n",
        "-  $a_0 = 1$\n",
        "- $a_{n+1} = a_n + 1$\n"
      ]
    },
    {
      "cell_type": "markdown",
      "metadata": {
        "id": "996X4Y0FphVq"
      },
      "source": [
        "#### Problems\n",
        "\n",
        "Generate the first five terms of each of the sequences below.\n",
        "\n",
        "1. $a_0 = 1$, $a_{n+1} = 2*a_n$\n",
        "2. $a_0 = 1$, $a_{n + 1} = a_n * (-1)^n$\n",
        "3. $a_0 = 1, a_1 = 1$, $a_{n+1} = a_n + a_{n - 1}$"
      ]
    },
    {
      "cell_type": "code",
      "execution_count": null,
      "metadata": {
        "id": "cnTlR2X5phVq"
      },
      "outputs": [],
      "source": []
    },
    {
      "cell_type": "code",
      "execution_count": null,
      "metadata": {
        "id": "_djPcRctphVq"
      },
      "outputs": [],
      "source": []
    },
    {
      "cell_type": "code",
      "execution_count": null,
      "metadata": {
        "id": "R_n6iBDgphVr"
      },
      "outputs": [],
      "source": []
    },
    {
      "cell_type": "code",
      "execution_count": null,
      "metadata": {
        "id": "hEVvTsC9phVr"
      },
      "outputs": [],
      "source": []
    },
    {
      "cell_type": "code",
      "execution_count": null,
      "metadata": {
        "id": "35ZYHHvtphVr"
      },
      "outputs": [],
      "source": []
    },
    {
      "cell_type": "code",
      "execution_count": null,
      "metadata": {
        "id": "LtJDES5ophVr"
      },
      "outputs": [],
      "source": []
    },
    {
      "cell_type": "markdown",
      "metadata": {
        "id": "b_88wMjWphVr"
      },
      "source": [
        "### Computing Square Roots\n",
        "\n",
        "\n",
        "\n",
        "Suppose we have a guess that we think is close to $\\sqrt{2}$\n",
        "\n",
        "$$x_1 \\approx \\sqrt{2} \\quad \\rightarrow \\quad x_1 \\times x_1 \\approx 2 \\quad \\rightarrow \\quad x_1 \\approx \\frac{2}{x_1}$$\n",
        "\n",
        "Either $x_1$ is a better guess or $\\frac{2}{x}$, but even better still would be the average of the two:\n",
        "\n",
        "$$x_2 = \\frac{1}{2} \\big(x_1 + \\frac{2}{x_1}\\big)$$\n",
        "\n",
        "If we continue in this manner we will get better and better approximations:\n",
        "\n",
        "$$x_3 = \\frac{1}{2} \\big(x_2 + \\frac{2}{x_2}\\big)$$\n",
        "\n",
        "$$x_4 = \\frac{1}{2} \\big(x_3 + \\frac{2}{x_3}\\big)$$\n",
        "\n",
        "$$x_5 = \\frac{1}{2} \\big(x_4 + \\frac{2}{x_4}\\big)$$\n",
        "\n",
        "$$\\vdots$$\n",
        "\n",
        "$$x_{n+1} = \\frac{1}{2} \\big(x_n + \\frac{2}{x_n}\\big)$$"
      ]
    },
    {
      "cell_type": "markdown",
      "metadata": {
        "id": "UcVYKuHtphVr"
      },
      "source": [
        "### Problem 1: Using Approximation Formula\n",
        "\n",
        "1. If you had to guess at a decimal value for $\\sqrt{3}$ what would it be and why?  \n",
        "2. Which is larger, your original guess or $\\frac{3}{guess}$?\n",
        "2. Use your initial guess as $x_0$ and compute $x_1$\n",
        "3. Use your value for $x_1$ and compute $x_2$, $x_3$, and $x_4$.\n",
        "4. Use a calculator to compute $\\sqrt{3}$.  How close were each of your approximations?"
      ]
    },
    {
      "cell_type": "code",
      "execution_count": null,
      "metadata": {
        "id": "46JHXITLphVr"
      },
      "outputs": [],
      "source": []
    },
    {
      "cell_type": "code",
      "execution_count": null,
      "metadata": {
        "id": "n2BufszxphVs"
      },
      "outputs": [],
      "source": []
    },
    {
      "cell_type": "code",
      "execution_count": null,
      "metadata": {
        "id": "JvIvL0dZphVs"
      },
      "outputs": [],
      "source": []
    },
    {
      "cell_type": "code",
      "execution_count": null,
      "metadata": {
        "id": "DaBVqQtKphVs"
      },
      "outputs": [],
      "source": []
    },
    {
      "cell_type": "code",
      "execution_count": null,
      "metadata": {
        "id": "K1HnT9a_phVs"
      },
      "outputs": [],
      "source": []
    },
    {
      "cell_type": "code",
      "execution_count": null,
      "metadata": {
        "id": "t_yI9TWSphVs"
      },
      "outputs": [],
      "source": []
    },
    {
      "cell_type": "code",
      "execution_count": null,
      "metadata": {
        "id": "_aE0MS2IphVs"
      },
      "outputs": [],
      "source": []
    },
    {
      "cell_type": "code",
      "execution_count": null,
      "metadata": {
        "id": "wwxkl2OPphVs"
      },
      "outputs": [],
      "source": []
    },
    {
      "cell_type": "code",
      "execution_count": null,
      "metadata": {
        "id": "sNebzOK9phVs"
      },
      "outputs": [],
      "source": []
    },
    {
      "cell_type": "code",
      "execution_count": null,
      "metadata": {
        "id": "wMWJ0_PDphVs"
      },
      "outputs": [],
      "source": []
    },
    {
      "cell_type": "markdown",
      "metadata": {
        "id": "7Mh4H_HhphVs"
      },
      "source": [
        "\n",
        "\n",
        "# What is $\\pi$?\n",
        "\n",
        "In his book *The Historical Development of the Calculus*, C.H. Edwards relates an early history of $\\pi$.  Around 430 BC, Hippocrates of Chios showed that the ratio of the area of two circles is equal to the ratio of the squares of their diameters.  Later, Eudoxus and Archimedes worked to deploy the method of exhaustion in determining this value.\n",
        "\n",
        "### Rough Approximations\n",
        "\n",
        "For Archimedes, he began with a hexagon inscribed and circumscribed on a circle with unit radius.  Of course, we've probably seen the relationship for the area of a circle as\n",
        "\n",
        "$$A = \\pi r^2$$\n",
        "\n",
        "Thus, if we have $r = 1$, the area of our circle is equal to $\\pi$.  We can use some rough approximations and our knowledge of square roots to determine a first approximation as Archimedes did by using a unit circle and inscribed and circumscribed hexagons as seen in the image below.\n",
        "\n",
        "<img src = \"images/exhaust.png\" height=\"50%\" width=\"50%\" />\n",
        "\n",
        "\n",
        "Here, we decompose the inscribed and circumscribed polygons using our knowledge of triangles.  As we saw in class, we can understand the inscribed triangles through the Pythagorean theorem, and some elementary knowledge about equilateral triangles.  To find the height of these triangles, we recognize that dropping a perpendicular to the base creates a right triangle with hypotenuse 1 and short leg $\\frac{1}{2}$ shown below.\n",
        "\n",
        "<img src = \"images/triangle.png\" height=\"50%\" width=\"50%\" />\n",
        "\n",
        "Thus, we can find the height using the Pythagorean theorem.  This gives us:\n",
        "\n",
        "$$\\frac{1}{2}^2 + ?^2 = 1^2$$\n",
        "\n",
        "$$?^2 = 1 - \\frac{1}{4}$$\n",
        "\n",
        "$$? = \\frac{\\sqrt{3}}{2}$$\n",
        "\n",
        "and an area for each of the six triangles of\n",
        "\n",
        "$$A = \\frac{1}{2}(\\text{base})(\\text{height}) \\quad \\text{or} \\quad A = \\frac{1}{2}\\times 1\\times\\frac{\\sqrt{3}}{2} = \\frac{\\sqrt{3}}{8}$$\n",
        "\n",
        "Thus, for all six triangles we have\n",
        "\n",
        "$$6 \\times \\frac{\\sqrt{3}}{4} \\quad \\text{or} \\quad \\frac{3\\sqrt{3}}{2}$$\n",
        "\n",
        "We can use Python to compute this as a number using our tenth approximation for $\\sqrt{3}$.\n",
        "\n"
      ]
    },
    {
      "cell_type": "code",
      "execution_count": null,
      "metadata": {
        "id": "7a7qATbEphVt",
        "outputId": "008be9ba-8ac9-4df9-a9ea-e064716fdbd8"
      },
      "outputs": [
        {
          "name": "stdout",
          "output_type": "stream",
          "text": [
            "The first approximation for pi is 2.598076211353316\n"
          ]
        }
      ],
      "source": [
        "a = [1.6]\n",
        "\n",
        "for i in range(9):\n",
        "    a.append(0.5*(a[i]+3/a[i]))\n",
        "\n",
        "print(\"The first approximation for pi is\", (3*a[-1]/2))"
      ]
    },
    {
      "cell_type": "markdown",
      "metadata": {
        "id": "4ccR3j6kphVt"
      },
      "source": [
        "### Problem II\n",
        "\n",
        "Use the same approach to determine an overapproximation for $\\pi$.\n",
        "\n",
        "1. What is the area of a triangle in the circumscribed hexagon above?\n",
        "2. What is the total area of the hexagon?\n",
        "3. How good of an approximation for $\\pi$ is this?\n",
        "4. How could we arrive at a better approximation?"
      ]
    },
    {
      "cell_type": "code",
      "execution_count": null,
      "metadata": {
        "id": "aqyAlvI_phVu"
      },
      "outputs": [],
      "source": []
    },
    {
      "cell_type": "code",
      "execution_count": null,
      "metadata": {
        "id": "3AVcZOTGphVu"
      },
      "outputs": [],
      "source": []
    },
    {
      "cell_type": "code",
      "execution_count": null,
      "metadata": {
        "id": "CA0_iNrWphVu"
      },
      "outputs": [],
      "source": []
    },
    {
      "cell_type": "code",
      "execution_count": null,
      "metadata": {
        "id": "oQsnWDREphVu"
      },
      "outputs": [],
      "source": []
    },
    {
      "cell_type": "code",
      "execution_count": null,
      "metadata": {
        "id": "8Ngy24aPphVu"
      },
      "outputs": [],
      "source": []
    },
    {
      "cell_type": "code",
      "execution_count": null,
      "metadata": {
        "id": "1Y9mN7kephVu"
      },
      "outputs": [],
      "source": []
    },
    {
      "cell_type": "markdown",
      "metadata": {
        "id": "CancJwIephVu"
      },
      "source": [
        "### Extra: Recurrence Relationships from Antiquity\n",
        "\n",
        "While we could continue to determine the successive relationships as we go, there are actually patterns that develop in both Eudoxus who started with a square and Archimedes who began with a hexagon. As Bruce Shapiro notes in his book *Scientific Computation: Python Hacking for Math Junkies*, the Eudoxean relationship is contingent on the length of an outer edge of a polygon $H_n$ and the perimeter of that polygone $P_n$, as follows:\n",
        "\n",
        "\n",
        "$$P_n = 2^n H_n \\quad \\text{thus} \\quad \\pi_n = \\frac{1}{2}P_n = 2^{n-1}H_n$$\n",
        "\n",
        "Further, we have a recursive relationship on $H_n$ as:\n",
        "\n",
        "$$H_n^2 = 2 - 2\\sqrt{1-\\big(\\frac{H_{n-1}}{2}\\big)^2}$$\n",
        "\n",
        "Thus, if we have an initial approximation, we can deploy this relationship to iterate and find better and better approximations.\n",
        "\n",
        "For Archimedes, we have a similar relationship where $I_n$ is the inscribed polygon and $C_n$ is the circumscribed polygon, thus\n",
        "\n",
        "$$I_n < \\pi < C_n$$\n",
        "\n",
        "and the recurrence relationships\n",
        "\n",
        "$$C_{2n} = \\frac{2C_nI_n}{C_n + I_n}$$\n",
        "\n",
        "$$~$$\n",
        "\n",
        "$$I_{2n} = \\sqrt{C_{2n}I_{n}}$$\n",
        "\n",
        "If you need something to do, you can establish these relationships.\n",
        "\n"
      ]
    },
    {
      "cell_type": "markdown",
      "metadata": {
        "id": "M9VfaRREphVu"
      },
      "source": [
        "### Zeno's Paradox\n",
        "\n",
        "The philosopher Zeno of Elea is said to be the product of a series of paradoxical questions, one of which dealt with the difficulty in quantifying the continuum.  Here, the problem involved a race between a tortise and Achilles (a man).  The tortise got a head start.  Aristotle describes the problem in his Physics as follows:\n",
        "\n",
        ">*\"This claims that the slowest funner will never be caught by the fastest runner, because the one behind has first to reach the point from which the one in front started, and so the slower one is obound always to be in front\" Aristotle\"*, Physics 239b14 - 18\n",
        "\n",
        "The problem, according to Zeno, has been interpreted to mean that it is impossible to cross any unit distance before crossing half of it.  It is impossible to cross this half without having crossed half of the half.  Continue the argument to infinity and how can we ever move?!  The image below offers a visualization of the problem.\n",
        "\n",
        "![](https://github.com/jfkoehler/calc_fall23/blob/main/images/zeno.png?raw=1)\n",
        "\n",
        "\n",
        "\n",
        "\n"
      ]
    },
    {
      "cell_type": "markdown",
      "metadata": {
        "id": "h3qsUZzAphVu"
      },
      "source": [
        "#### Zeno and Sums\n",
        "\n",
        "If we examine the image above, it should make sense to us that the sum of the terms of Zeno's sequence add to one.  It may be counter intuitive to think that an infinite number of terms add to a finite number, however this is one of the fundamental problems for us.  What happens in the realm of the infinitely small?  \n",
        "\n",
        "We can use our tools to investigate this.  First, let us create a sequence of Zeno's terms as follows.\n",
        "\n",
        "$$\\displaystyle \\text{Zeno =} \\quad [~ \\frac{1}{2}, ~ \\frac{1}{2^2}, ~ \\frac{1}{2^3}, ...]$$\n",
        "\n",
        "\n",
        "Now, we will create a sequence that provides the **partial sums** of the terms of Zeno as:\n",
        "\n",
        "$$\\displaystyle \\text{Partial Sums = } ~ [\\frac{1}{2}, ~ \\frac{1}{2} + ~ \\frac{1}{4}, ~ \\frac{1}{2} + \\frac{1}{4} + \\frac{1}{16}, ...]$$\n",
        "\n",
        "\n",
        "We will also plot these side by side to compare.\n",
        "\n"
      ]
    },
    {
      "cell_type": "code",
      "execution_count": null,
      "metadata": {
        "id": "W1j0s-Z9phVv",
        "outputId": "9b29f9bd-da91-419f-833b-bee988a63a69"
      },
      "outputs": [
        {
          "data": {
            "text/plain": [
              "[0.5,\n",
              " 0.25,\n",
              " 0.125,\n",
              " 0.0625,\n",
              " 0.03125,\n",
              " 0.015625,\n",
              " 0.0078125,\n",
              " 0.00390625,\n",
              " 0.001953125,\n",
              " 0.0009765625]"
            ]
          },
          "execution_count": 2,
          "metadata": {},
          "output_type": "execute_result"
        }
      ],
      "source": [
        "zeno = [1/2**(i+1) for i in range(10)]\n",
        "zeno"
      ]
    },
    {
      "cell_type": "code",
      "execution_count": null,
      "metadata": {
        "id": "5PajcEuyphVv",
        "outputId": "182a7a5b-1675-4775-d614-14d9f3a7b70a"
      },
      "outputs": [
        {
          "ename": "NameError",
          "evalue": "name 'np' is not defined",
          "output_type": "error",
          "traceback": [
            "\u001b[0;31m---------------------------------------------------------------------------\u001b[0m",
            "\u001b[0;31mNameError\u001b[0m                                 Traceback (most recent call last)",
            "\u001b[0;32m<ipython-input-3-9052edad28a2>\u001b[0m in \u001b[0;36m<module>\u001b[0;34m\u001b[0m\n\u001b[0;32m----> 1\u001b[0;31m \u001b[0mnp\u001b[0m\u001b[0;34m.\u001b[0m\u001b[0mcumsum\u001b[0m\u001b[0;34m(\u001b[0m\u001b[0mzeno\u001b[0m\u001b[0;34m)\u001b[0m\u001b[0;34m\u001b[0m\u001b[0;34m\u001b[0m\u001b[0m\n\u001b[0m",
            "\u001b[0;31mNameError\u001b[0m: name 'np' is not defined"
          ]
        }
      ],
      "source": [
        "np.cumsum(zeno)"
      ]
    },
    {
      "cell_type": "code",
      "execution_count": null,
      "metadata": {
        "id": "p6HzZo6WphVv"
      },
      "outputs": [],
      "source": [
        "zeno_sums"
      ]
    },
    {
      "cell_type": "code",
      "execution_count": null,
      "metadata": {
        "id": "P0KE75wcphVv"
      },
      "outputs": [],
      "source": [
        "plt.figure(figsize = (12, 5))\n",
        "plt.subplot(1, 2, 1)\n",
        "plt.plot(zeno, '--o')\n",
        "plt.title(\"Zeno's Sequence of Terms\")\n",
        "\n",
        "plt.subplot(1, 2, 2)\n",
        "plt.plot(zeno_sums, '--o')\n",
        "plt.title(\"Partial Sums of Zeno's Terms\")"
      ]
    },
    {
      "cell_type": "markdown",
      "metadata": {
        "id": "gW3-q6LtphVv"
      },
      "source": [
        "### The Quadrature of the Parabola\n",
        "\n",
        "<center>\n",
        "    <img src = https://upload.wikimedia.org/wikipedia/commons/thumb/d/d7/Parabolic_Segment_Dissection.svg/600px-Parabolic_Segment_Dissection.svg.png width = 50% />\n",
        "    </center>\n",
        "    \n",
        "> \"The Quadrature of the Parabola (Greek: Τετραγωνισμὸς παραβολῆς) is a treatise on geometry, written by Archimedes in the 3rd century BC. Written as a letter to his friend Dositheus, the work presents 24 propositions regarding parabolas, culminating in a proof that the area of a parabolic segment (the region enclosed by a parabola and a line) is 4/3 that of a certain inscribed triangle.\" -- [Wikipedia](https://en.wikipedia.org/wiki/The_Quadrature_of_the_Parabola)\n",
        "\n",
        "Archimedes argued that if one knew the area of the original triangle, that subsequent triangles were related to this in that the sum of their areas were equal to $\\frac{1}{4}$ the previously constructed one.\n",
        "\n",
        "<center>\n",
        "    <img src = images/arch_p2.png width = 30%/>\n",
        "    </center>\n",
        "    \n",
        "In other words:\n",
        "\n",
        "$$\\frac{1}{4} A1 = A2$$\n",
        "\n",
        "Here, we could write our approximation for the area under the parabola as\n",
        "\n",
        "$$area = A1 + A2$$\n",
        "$$area = A1 + \\frac{1}{4}A1$$\n",
        "\n"
      ]
    },
    {
      "cell_type": "markdown",
      "metadata": {
        "id": "3TPgPIwTphV9"
      },
      "source": [
        "### Problem III: Approximating the Area under Parabola\n",
        "\n",
        "1. Continue to use the ideas of Archimedes above to provide the next three terms of the sequence.  In the end, the goal is to have our approximation explicitly in terms of A1.\n",
        "2. Factor your variable A1 out of your expression and compute the sum.\n",
        "3. What is the value of the sum:\n",
        "$$1 + \\frac{1}{4} + \\frac{1}{4}^2 + \\frac{1}{4}^3 + ...$$\n",
        "4. What does the image below have to do with this?\n",
        "\n",
        "<center>\n",
        "    <img src = https://upload.wikimedia.org/wikipedia/commons/thumb/e/e6/GeometricSquares.svg/440px-GeometricSquares.svg.png width = 20%/>\n",
        "    </center>"
      ]
    },
    {
      "cell_type": "code",
      "execution_count": null,
      "metadata": {
        "id": "gLGiIxYVphV9"
      },
      "outputs": [],
      "source": [
        "#first term of the partial sum of the sequence\n"
      ]
    },
    {
      "cell_type": "code",
      "execution_count": null,
      "metadata": {
        "id": "YrKol9MvphV-"
      },
      "outputs": [],
      "source": [
        "#two terms of the partial sum sequence\n"
      ]
    },
    {
      "cell_type": "code",
      "execution_count": null,
      "metadata": {
        "id": "Z4gFjZ4sphV-"
      },
      "outputs": [],
      "source": [
        "#three terms of partial sum\n"
      ]
    },
    {
      "cell_type": "code",
      "execution_count": null,
      "metadata": {
        "id": "ztsQolQrphV-"
      },
      "outputs": [],
      "source": [
        "1/4 + 1/4**2 + 1/4**3 + 1/4**4 + 1/4**5"
      ]
    },
    {
      "cell_type": "code",
      "execution_count": null,
      "metadata": {
        "id": "ZIw8MfjAphV-"
      },
      "outputs": [],
      "source": []
    },
    {
      "cell_type": "code",
      "execution_count": null,
      "metadata": {
        "id": "mHURs8gVphV-"
      },
      "outputs": [],
      "source": []
    },
    {
      "cell_type": "code",
      "execution_count": null,
      "metadata": {
        "id": "Y9-vRuPsphV-"
      },
      "outputs": [],
      "source": []
    },
    {
      "cell_type": "code",
      "execution_count": null,
      "metadata": {
        "id": "xOLgtnIXphV-"
      },
      "outputs": [],
      "source": []
    },
    {
      "cell_type": "markdown",
      "metadata": {
        "id": "RXsOYBtjphV-"
      },
      "source": [
        "### Tossing a Coin\n",
        "\n",
        "> Probability is a numerical description of how likely an event is to occur or how likely it is that a proposition is true. Probability is a number between 0 and 1, where, roughly speaking, 0 indicates impossibility and 1 indicates certainty.[note 1][1][2] The higher the probability of an event, the more likely it is that the event will occur. A simple example is the tossing of a fair (unbiased) coin. Since the coin is fair, the two outcomes (\"heads\" and \"tails\") are both equally probable; the probability of \"heads\" equals the probability of \"tails\"; and since no other outcomes are possible, the probability of either \"heads\" or \"tails\" is 1/2 (which could also be written as 0.5 or 50%). -- [Wikipedia](https://en.wikipedia.org/wiki/Probability)\n",
        "\n",
        "Using this example, we will explore the probability of different outcomes for tossing two coins.  \n",
        "\n",
        "1. Suppose you toss one coin, what is the probability you will get a head?\n",
        "2. Suppose you toss two coins simultaneously.  How many ways are there for the following outcomes:\n",
        " - Two Heads\n",
        " - Two Tails\n",
        " - One Head and One Tail\n",
        "\n",
        "3. Suppose you toss three coins simultaneously.  What are all the different possible outcomes?  What are their probabilities?\n",
        "\n",
        "4. Toss 4 coins and answer the same question.\n",
        "\n",
        "5.  Fill in the table below.\n",
        "\n",
        "| coins | 0 Head | 1 Head | 2 Head | 3 Head | 4 Head | 5 Head | 6 Head |\n",
        "| ----- | ----- | ----- | ----- | ----- | ----- | ----- | ----- |\n",
        " | 0    |  1    |   na  |     na      |    na     |    na     |   na    |  na |\n",
        " |  1    |   1   |     1 |    na |  na   |    na |    na |  na |\n",
        "| 2   |        | |     |     |      |      |\n",
        "| 3  |         | |     |     |     |     |\n",
        "| 4 |         | |      |          |      |      |\n",
        "| 5 |         | |      |       |         |         |\n",
        "| 6 |         | |      |       |        |        |      |"
      ]
    },
    {
      "cell_type": "code",
      "execution_count": null,
      "metadata": {
        "id": "bilf4pTiphV_"
      },
      "outputs": [],
      "source": []
    },
    {
      "cell_type": "code",
      "execution_count": null,
      "metadata": {
        "id": "Ztqw_SKjphV_"
      },
      "outputs": [],
      "source": []
    },
    {
      "cell_type": "code",
      "execution_count": null,
      "metadata": {
        "id": "YQXWuuV6phV_"
      },
      "outputs": [],
      "source": []
    },
    {
      "cell_type": "code",
      "execution_count": null,
      "metadata": {
        "id": "M609GOhtphV_"
      },
      "outputs": [],
      "source": []
    },
    {
      "cell_type": "code",
      "execution_count": null,
      "metadata": {
        "id": "HabrvXvQphV_"
      },
      "outputs": [],
      "source": []
    },
    {
      "cell_type": "code",
      "execution_count": null,
      "metadata": {
        "id": "YWCpwxWhphV_",
        "outputId": "046f03e1-9fa5-4afb-dd41-b8041f84bd1c",
        "colab": {
          "referenced_widgets": [
            "567bf74ca66b4256942bece01837355b"
          ]
        }
      },
      "outputs": [
        {
          "data": {
            "application/vnd.jupyter.widget-view+json": {
              "model_id": "567bf74ca66b4256942bece01837355b",
              "version_major": 2,
              "version_minor": 0
            },
            "text/plain": [
              "interactive(children=(IntSlider(value=0, description='n'), FloatSlider(value=0.5, description='p', max=1.0), O…"
            ]
          },
          "metadata": {},
          "output_type": "display_data"
        }
      ],
      "source": [
        "from scipy.stats import binom\n",
        "import matplotlib.pyplot as plt\n",
        "import numpy as np\n",
        "import ipywidgets as widgets\n",
        "from ipywidgets import interact\n",
        "\n",
        "\n",
        "\n",
        "def binom_dist(n, p):\n",
        "\n",
        "    fig, ax = plt.subplots(1, 1, figsize = (16, 5))\n",
        "    mean, var, skew, kurt = binom.stats(n, p, moments='mvsk')\n",
        "    x = np.arange(binom.ppf(0.01, n+1, p),\n",
        "                  binom.ppf(0.99, n+1, p))\n",
        "    ax.plot(x, binom.pmf(x, n, p), 'bo', ms=8, label='binom pmf')\n",
        "    ax.vlines(x, 0, binom.pmf(x, n, p), colors='b', lw=5, alpha=0.5)\n",
        "    ax.set_title(f'Probabilities for {n} coin tosses\\nCoin has probability {p} of landing Heads and {1 - p} for Tails', loc = 'left', fontsize = 20)\n",
        "    ax.set_xlabel(f'Number of Heads')\n",
        "    ax.set_ylabel('Probabilities')\n",
        "\n",
        "interact(binom_dist, n = widgets.IntSlider(0, min = 0, max = 100, step = 1), p = widgets.FloatSlider(0.5, min = 0, max = 1, step = 0.1));"
      ]
    },
    {
      "cell_type": "code",
      "execution_count": null,
      "metadata": {
        "id": "u3_GEt_8phV_"
      },
      "outputs": [],
      "source": []
    },
    {
      "cell_type": "code",
      "execution_count": null,
      "metadata": {
        "id": "lF6yiTh2phV_"
      },
      "outputs": [],
      "source": []
    },
    {
      "cell_type": "code",
      "execution_count": null,
      "metadata": {
        "id": "4JjkUAXmphWA"
      },
      "outputs": [],
      "source": []
    },
    {
      "cell_type": "code",
      "execution_count": null,
      "metadata": {
        "id": "iTb5XiKkphWA"
      },
      "outputs": [],
      "source": []
    },
    {
      "cell_type": "code",
      "execution_count": null,
      "metadata": {
        "id": "cdgwKnT_phWA"
      },
      "outputs": [],
      "source": []
    },
    {
      "cell_type": "code",
      "execution_count": null,
      "metadata": {
        "id": "HNyD8q7tphWA"
      },
      "outputs": [],
      "source": []
    }
  ],
  "metadata": {
    "kernelspec": {
      "display_name": "Python 3",
      "language": "python",
      "name": "python3"
    },
    "language_info": {
      "codemirror_mode": {
        "name": "ipython",
        "version": 3
      },
      "file_extension": ".py",
      "mimetype": "text/x-python",
      "name": "python",
      "nbconvert_exporter": "python",
      "pygments_lexer": "ipython3",
      "version": "3.8.3"
    },
    "colab": {
      "provenance": [],
      "include_colab_link": true
    }
  },
  "nbformat": 4,
  "nbformat_minor": 0
}