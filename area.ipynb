{
  "cells": [
    {
      "cell_type": "markdown",
      "metadata": {
        "id": "view-in-github",
        "colab_type": "text"
      },
      "source": [
        "<a href=\"https://colab.research.google.com/github/prestonbourne/calculus-w-python/blob/main/area.ipynb\" target=\"_parent\"><img src=\"https://colab.research.google.com/assets/colab-badge.svg\" alt=\"Open In Colab\"/></a>"
      ]
    },
    {
      "cell_type": "markdown",
      "metadata": {
        "id": "k2pGMwG4hi20"
      },
      "source": [
        "# Riemann Sums and Definite Integrals\n",
        "\n",
        "**OBJECTIVE**\n",
        "\n",
        "- Approximate area under a curve using Riemann Sums\n",
        "- Investigate patterns as we move to infinite rectangles\n",
        "- Define the *Definite Integral* formally and informally\n",
        "- Use `python` to determine the definite integral\n"
      ]
    },
    {
      "cell_type": "code",
      "execution_count": null,
      "metadata": {
        "id": "uvziJWyjhi21"
      },
      "outputs": [],
      "source": [
        "import matplotlib.pyplot as plt\n",
        "import numpy as np\n",
        "import pandas as pd\n",
        "from scipy.integrate import quad"
      ]
    },
    {
      "cell_type": "markdown",
      "metadata": {
        "id": "1DLt_EHIhi21"
      },
      "source": [
        "#### Plotting Review\n",
        "\n",
        "An important part of our work will continue to be visualizing plots of functions.  As such, you want to develop familiarity with defining and plotting functions.  Below are examples of defining, plotting, and evaluating functions."
      ]
    },
    {
      "cell_type": "markdown",
      "metadata": {
        "id": "qqHePochhi21"
      },
      "source": [
        "1. $f(x) = 3x^2 + 2x + 1$"
      ]
    },
    {
      "cell_type": "code",
      "execution_count": null,
      "metadata": {
        "id": "d4OKKtUnhi22"
      },
      "outputs": [],
      "source": [
        "#define function\n"
      ]
    },
    {
      "cell_type": "code",
      "execution_count": null,
      "metadata": {
        "id": "YX-kQT9rhi22"
      },
      "outputs": [],
      "source": [
        "#evaluate at x = 2\n"
      ]
    },
    {
      "cell_type": "code",
      "execution_count": null,
      "metadata": {
        "id": "kifibFmyhi22"
      },
      "outputs": [],
      "source": [
        "#domain from x = -2 to x = 2\n"
      ]
    },
    {
      "cell_type": "code",
      "execution_count": null,
      "metadata": {
        "id": "LdwI4n3Dhi22"
      },
      "outputs": [],
      "source": [
        "#plot it\n"
      ]
    },
    {
      "cell_type": "markdown",
      "metadata": {
        "id": "vC1VYhvnhi22"
      },
      "source": [
        "2. $f(x) = x^2 - 3x + 5$"
      ]
    },
    {
      "cell_type": "code",
      "execution_count": null,
      "metadata": {
        "id": "OXxXYqH7hi22"
      },
      "outputs": [],
      "source": [
        "#define function\n"
      ]
    },
    {
      "cell_type": "code",
      "execution_count": null,
      "metadata": {
        "id": "H5CQJggGhi22"
      },
      "outputs": [],
      "source": [
        "#evaluate at x = -3\n"
      ]
    },
    {
      "cell_type": "code",
      "execution_count": null,
      "metadata": {
        "id": "3Z12lwMyhi22"
      },
      "outputs": [],
      "source": [
        "#domain from x = -1 to x = 5\n"
      ]
    },
    {
      "cell_type": "code",
      "execution_count": null,
      "metadata": {
        "id": "h0UJ9iq_hi23"
      },
      "outputs": [],
      "source": [
        "#plot it\n"
      ]
    },
    {
      "cell_type": "markdown",
      "metadata": {
        "id": "ze3ZEF3Xhi23"
      },
      "source": [
        "3. $f(x) = \\sin(x^2)$"
      ]
    },
    {
      "cell_type": "code",
      "execution_count": null,
      "metadata": {
        "id": "OVqiE2yRhi23"
      },
      "outputs": [],
      "source": [
        "#define function\n"
      ]
    },
    {
      "cell_type": "code",
      "execution_count": null,
      "metadata": {
        "id": "cO2G2l3Vhi23"
      },
      "outputs": [],
      "source": [
        "#evaluate at x = .24\n"
      ]
    },
    {
      "cell_type": "code",
      "execution_count": null,
      "metadata": {
        "id": "QeH9d0sxhi23"
      },
      "outputs": [],
      "source": [
        "#domain from x = -3 to x = 3\n"
      ]
    },
    {
      "cell_type": "code",
      "execution_count": null,
      "metadata": {
        "id": "8VFo-JK0hi23"
      },
      "outputs": [],
      "source": [
        "#plot it\n"
      ]
    },
    {
      "cell_type": "code",
      "execution_count": null,
      "metadata": {
        "id": "uK6wqpaXhi23"
      },
      "outputs": [],
      "source": []
    },
    {
      "cell_type": "markdown",
      "metadata": {
        "id": "SUIPPRpghi23"
      },
      "source": [
        "## Riemann Sum\n",
        "\n",
        "Starting where we left off with an approximation of the area under a function, on a closed interval we aim to determine a general formula for the area under a curve based on the following inputs:\n",
        "\n",
        "- A function $f$\n",
        "- A domain $[a, b]$.\n",
        "- A number of approximating rectangles $n$\n",
        "\n",
        "We use these to determine the area as a sum of areas of rectangles with some width and height.\n",
        "\n",
        "$$\\text{Area} \\approx \\sum_{i = 1}^n \\text{widths} \\times \\text{heights}$$"
      ]
    },
    {
      "cell_type": "markdown",
      "metadata": {
        "id": "aqv4Crbthi23"
      },
      "source": [
        "we make life easier by making the rectangles all equal width and are left with the idea:\n",
        "\n",
        "$$\\text{Area} \\approx \\text{width} \\times \\sum_{i = 1}^n \\text{heights}$$"
      ]
    },
    {
      "cell_type": "markdown",
      "metadata": {
        "id": "WN4bLM-2hi23"
      },
      "source": [
        "### Example 1: Left-Handed Sums\n",
        "\n",
        "Let's be concrete with a small example.  Here, let our function be $f(x) = -x^2 + 1$ on $[-1, 1]$ and let $n = 4$.  \n",
        "\n",
        "------\n",
        "- What is the width of each rectangle?\n",
        "- List the left endpoints of each subinterval.\n",
        "- Write a formula for these\n",
        "- Use algorithm to determine\n",
        "- Express the sum of the rectangles heights as: $f(x_0) + f(x_1) + f(x_2) + f(x_3)$, and replace $x_0, x_1, x_2, x_3$ with the values from above.  \n",
        "- Evaluate the area.\n",
        "-----"
      ]
    },
    {
      "cell_type": "code",
      "execution_count": null,
      "metadata": {
        "id": "4h8c3cd1hi24"
      },
      "outputs": [],
      "source": [
        "#width of one rectangle?\n"
      ]
    },
    {
      "cell_type": "code",
      "execution_count": null,
      "metadata": {
        "id": "0H-66xIEhi24"
      },
      "outputs": [],
      "source": [
        "#left endpoints\n"
      ]
    },
    {
      "cell_type": "code",
      "execution_count": null,
      "metadata": {
        "id": "Nbcym_MHhi24"
      },
      "outputs": [],
      "source": [
        "#width times height\n"
      ]
    },
    {
      "cell_type": "code",
      "execution_count": null,
      "metadata": {
        "id": "ybRCO3-2hi24"
      },
      "outputs": [],
      "source": [
        "#area\n"
      ]
    },
    {
      "cell_type": "markdown",
      "metadata": {
        "id": "I6nJSQRLhi24"
      },
      "source": [
        "## Riemann Sum: A Definition\n",
        "\n",
        "*In mathematics, a Riemann sum is a certain kind of approximation of an integral by a finite sum. It is named after nineteenth century German mathematician Bernhard Riemann. One very common application is approximating the area of functions or lines on a graph, but also the length of curves and other approximations.* -- [Source](https://en.wikipedia.org/wiki/Riemann_sum)\n",
        "\n",
        "-----\n",
        "A Riemann sum $S$ of $f$ over $I$ with partition $P$ is defined as:\n",
        "\n",
        "$$\\displaystyle S=\\sum _{i=1}^{n}f(x_{i}^{*})\\,\\Delta x_{i}$$\n",
        "\n",
        "\n",
        "where\n",
        "\n",
        "$\\displaystyle \\Delta x_{i}=x_{i}-x_{i-1}$ and $x_{i}^{*} \\in [x_{i-1},x_{i}]$\n",
        "\n",
        "-----"
      ]
    },
    {
      "cell_type": "markdown",
      "metadata": {
        "id": "H0UbwDNDhi24"
      },
      "source": [
        "**PROBLEM**\n",
        "\n",
        "- Find an approximation for the area under the curve $f(x) = x^3$ on $[1, 3]$ with $n = 5$."
      ]
    },
    {
      "cell_type": "code",
      "execution_count": null,
      "metadata": {
        "id": "fkmdJ0cmhi24"
      },
      "outputs": [],
      "source": []
    },
    {
      "cell_type": "code",
      "execution_count": null,
      "metadata": {
        "id": "Za_E74gshi24"
      },
      "outputs": [],
      "source": []
    },
    {
      "cell_type": "code",
      "execution_count": null,
      "metadata": {
        "id": "Q21pBehrhi24"
      },
      "outputs": [],
      "source": []
    },
    {
      "cell_type": "code",
      "execution_count": null,
      "metadata": {
        "id": "nVndGHzEhi24"
      },
      "outputs": [],
      "source": []
    },
    {
      "cell_type": "code",
      "execution_count": null,
      "metadata": {
        "id": "Qt2tbU8ahi24"
      },
      "outputs": [],
      "source": []
    },
    {
      "cell_type": "markdown",
      "metadata": {
        "id": "LLJhZbCFhi24"
      },
      "source": [
        "Consider the function $f(x) = 4 - x^2$ on the interval $[-2,2]$.  \n",
        "\n",
        "- Draw a plot of the function\n",
        "- Use the above formula for $L(4)$ to find an approximation for the area under the curve."
      ]
    },
    {
      "cell_type": "code",
      "execution_count": null,
      "metadata": {
        "id": "yn_8Bd9khi25"
      },
      "outputs": [],
      "source": []
    },
    {
      "cell_type": "code",
      "execution_count": null,
      "metadata": {
        "id": "QU8HgHpHhi25"
      },
      "outputs": [],
      "source": []
    },
    {
      "cell_type": "code",
      "execution_count": null,
      "metadata": {
        "id": "mXAiDE9rhi25"
      },
      "outputs": [],
      "source": []
    },
    {
      "cell_type": "markdown",
      "metadata": {
        "id": "TxzZKDKFhi25"
      },
      "source": [
        "Find an approximation for the area under the curve $f(x) = \\frac{1}{x - 1}$ on [2, 3] using 4 rectangles."
      ]
    },
    {
      "cell_type": "code",
      "execution_count": null,
      "metadata": {
        "id": "9H7ojZyphi25"
      },
      "outputs": [],
      "source": []
    },
    {
      "cell_type": "code",
      "execution_count": null,
      "metadata": {
        "id": "NZqCoUhihi25"
      },
      "outputs": [],
      "source": []
    },
    {
      "cell_type": "code",
      "execution_count": null,
      "metadata": {
        "id": "TwnkQUQ8hi26"
      },
      "outputs": [],
      "source": []
    },
    {
      "cell_type": "markdown",
      "metadata": {
        "id": "9KRYCMdEhi26"
      },
      "source": [
        "Find an approximation for the area under the curve $x^2 - 2x + 1$ on [0, 2] using 8 rectangles."
      ]
    },
    {
      "cell_type": "code",
      "execution_count": null,
      "metadata": {
        "id": "8PNXN2P-hi26"
      },
      "outputs": [],
      "source": []
    },
    {
      "cell_type": "code",
      "execution_count": null,
      "metadata": {
        "id": "JTB1fgLBhi26"
      },
      "outputs": [],
      "source": []
    },
    {
      "cell_type": "code",
      "execution_count": null,
      "metadata": {
        "id": "6iSel_Clhi26"
      },
      "outputs": [],
      "source": []
    },
    {
      "cell_type": "code",
      "execution_count": null,
      "metadata": {
        "id": "_Y0ZEd4Whi26"
      },
      "outputs": [],
      "source": []
    },
    {
      "cell_type": "markdown",
      "metadata": {
        "id": "v2RwjC7mhi26"
      },
      "source": [
        "### General Example\n",
        "\n",
        "Find an expression for the area under the curve $$f(x) = x^3 - x$$ on $[1, 4]$ with $n$ rectangles.  \n",
        "\n",
        "**Recall**:\n",
        "\n",
        "$$\\sum_{i = 1}^n i = \\frac{n^2 + n}{2} \\quad \\sum_{i = 1}^n i^3 = \\big[\\frac{n^2 + n}{2}\\big]^2$$"
      ]
    },
    {
      "cell_type": "code",
      "execution_count": null,
      "metadata": {
        "id": "68hUHwbUhi26"
      },
      "outputs": [],
      "source": [
        "from IPython.display import IFrame"
      ]
    },
    {
      "cell_type": "code",
      "execution_count": null,
      "metadata": {
        "id": "8skr66rthi26",
        "outputId": "20173890-22bc-4fda-9d65-d7ef200f9b1c"
      },
      "outputs": [
        {
          "data": {
            "text/html": [
              "\n",
              "        <iframe\n",
              "            width=\"100\"\n",
              "            height=\"200\"\n",
              "            src=\"\"\n",
              "            frameborder=\"0\"\n",
              "            allowfullscreen\n",
              "        ></iframe>\n",
              "        "
            ],
            "text/plain": [
              "<IPython.lib.display.IFrame at 0x7ffca0de7f70>"
            ]
          },
          "execution_count": 11,
          "metadata": {},
          "output_type": "execute_result"
        }
      ],
      "source": [
        "IFrame(src = '', width = 100, height = 200)"
      ]
    },
    {
      "cell_type": "code",
      "execution_count": null,
      "metadata": {
        "id": "8rCqzSQLhi27"
      },
      "outputs": [],
      "source": []
    },
    {
      "cell_type": "code",
      "execution_count": null,
      "metadata": {
        "id": "-SE5PR_dhi27"
      },
      "outputs": [],
      "source": []
    },
    {
      "cell_type": "code",
      "execution_count": null,
      "metadata": {
        "id": "bGyla9_jhi27"
      },
      "outputs": [],
      "source": []
    },
    {
      "cell_type": "code",
      "execution_count": null,
      "metadata": {
        "id": "iIkH-zQ7hi27"
      },
      "outputs": [],
      "source": []
    },
    {
      "cell_type": "markdown",
      "metadata": {
        "id": "jTf_BiuRhi27"
      },
      "source": [
        "**Problems**\n",
        "\n",
        "1. Riemann sum for $f(x) = x^3$ on $[2, 4]$\n",
        "\n",
        "2. Riemann sum for $f(x) = 3x^3 - 2x$ on $[1, 3]$\n",
        "\n",
        "\n"
      ]
    },
    {
      "cell_type": "code",
      "execution_count": null,
      "metadata": {
        "id": "LIux4JwEhi27"
      },
      "outputs": [],
      "source": []
    },
    {
      "cell_type": "code",
      "execution_count": null,
      "metadata": {
        "id": "QCj8Kj84hi27"
      },
      "outputs": [],
      "source": []
    },
    {
      "cell_type": "code",
      "execution_count": null,
      "metadata": {
        "id": "ztqfzzqnhi27"
      },
      "outputs": [],
      "source": []
    },
    {
      "cell_type": "code",
      "execution_count": null,
      "metadata": {
        "id": "b1Tk0HO0hi27"
      },
      "outputs": [],
      "source": []
    },
    {
      "cell_type": "code",
      "execution_count": null,
      "metadata": {
        "id": "alIbSUq8hi27"
      },
      "outputs": [],
      "source": []
    },
    {
      "cell_type": "code",
      "execution_count": null,
      "metadata": {
        "id": "vmvpUco1hi27"
      },
      "outputs": [],
      "source": []
    },
    {
      "cell_type": "code",
      "execution_count": null,
      "metadata": {
        "id": "zgnRLRLIhi28"
      },
      "outputs": [],
      "source": []
    },
    {
      "cell_type": "markdown",
      "metadata": {
        "id": "X9I49_d_hi28"
      },
      "source": [
        "### Taking it to the limit\n",
        "\n",
        "What happens if we increase the number of rectangles?"
      ]
    },
    {
      "cell_type": "code",
      "execution_count": null,
      "metadata": {
        "id": "VeyYTQQchi28"
      },
      "outputs": [],
      "source": [
        "x = np.linspace(-2,2,100)\n",
        "def f(x): return x**2\n",
        "def riemann_slider(n):\n",
        "    a = x[0] #left endpoint\n",
        "    b = x[-1] #right endpoint\n",
        "    width = (b-a)/n #width of rectangles\n",
        "    plt.plot(x, f(x), color = 'black') #plot the function\n",
        "    bases = np.array([a + width*i for i in range(n)]) #determine base points\n",
        "    plt.bar(bases, f(bases), width = width, align = 'edge',\n",
        "           color = 'orange', edgecolor = 'black') #plot the rectangles\n",
        "    areas = [width * height for height in f(bases)] #find the area\n",
        "    print(sum(areas))"
      ]
    },
    {
      "cell_type": "code",
      "execution_count": null,
      "metadata": {
        "id": "OEBvXba1hi28"
      },
      "outputs": [],
      "source": [
        "from ipywidgets import interact\n",
        "import ipywidgets as widgets"
      ]
    },
    {
      "cell_type": "code",
      "execution_count": null,
      "metadata": {
        "id": "s6ipwvz2hi28",
        "outputId": "83bad6aa-766a-4a6a-9021-337b881ffad7",
        "colab": {
          "referenced_widgets": [
            "087c8e079ca44852b6a63a643c0ba533"
          ]
        }
      },
      "outputs": [
        {
          "data": {
            "application/vnd.jupyter.widget-view+json": {
              "model_id": "087c8e079ca44852b6a63a643c0ba533",
              "version_major": 2,
              "version_minor": 0
            },
            "text/plain": [
              "interactive(children=(IntSlider(value=1, description='n', min=1, step=2), Output()), _dom_classes=('widget-int…"
            ]
          },
          "metadata": {},
          "output_type": "display_data"
        }
      ],
      "source": [
        "interact(riemann_slider,  n = widgets.IntSlider(1, min = 1, max = 100, step = 2));"
      ]
    },
    {
      "cell_type": "markdown",
      "metadata": {
        "id": "BSKva6TIhi28"
      },
      "source": [
        "### The Definite Integral\n",
        "\n",
        "<center>\n",
        "<img src = 'https://upload.wikimedia.org/wikipedia/commons/thumb/9/9f/Integral_example.svg/600px-Integral_example.svg.png' width = 50%/>\n",
        "</center>\n",
        "\n",
        "In mathematics, an integral assigns numbers to functions in a way that describes displacement, area, volume, and other concepts that arise by combining infinitesimal data. The process of finding integrals is called integration. Along with differentiation, integration is a fundamental operation of calculus, and serves as a tool to solve problems in mathematics and physics involving the area of an arbitrary shape, the length of a curve, and the volume of a solid, among others."
      ]
    },
    {
      "cell_type": "markdown",
      "metadata": {
        "id": "HozzeNQmhi28"
      },
      "source": [
        "$$\\int_a^b f(x) dx$$"
      ]
    },
    {
      "cell_type": "markdown",
      "metadata": {
        "id": "_MgpJ_vphi28"
      },
      "source": [
        "**Examples**\n",
        "\n",
        "- $\\int_0^2 x^2 dx$\n",
        "- $\\int_{-\\pi}^{\\pi} \\sin{x}dx$"
      ]
    },
    {
      "cell_type": "code",
      "execution_count": null,
      "metadata": {
        "id": "xpD4BeF9hi28"
      },
      "outputs": [],
      "source": [
        "from scipy.integrate import quad"
      ]
    },
    {
      "cell_type": "code",
      "execution_count": null,
      "metadata": {
        "id": "A6kVBMfvhi28"
      },
      "outputs": [],
      "source": [
        "#define the function\n"
      ]
    },
    {
      "cell_type": "code",
      "execution_count": null,
      "metadata": {
        "id": "OeyKciIHhi29"
      },
      "outputs": [],
      "source": [
        "#determine domain\n"
      ]
    },
    {
      "cell_type": "code",
      "execution_count": null,
      "metadata": {
        "id": "ObgMoDTKhi29"
      },
      "outputs": [],
      "source": [
        "#plot it\n"
      ]
    },
    {
      "cell_type": "code",
      "execution_count": null,
      "metadata": {
        "id": "meEI3l_yhi29"
      },
      "outputs": [],
      "source": [
        "#find area\n"
      ]
    },
    {
      "cell_type": "code",
      "execution_count": null,
      "metadata": {
        "id": "SeGPxwBghi29"
      },
      "outputs": [],
      "source": [
        "#define the function\n"
      ]
    },
    {
      "cell_type": "code",
      "execution_count": null,
      "metadata": {
        "id": "3Q7DwSM8hi29"
      },
      "outputs": [],
      "source": [
        "#determine the domain\n"
      ]
    },
    {
      "cell_type": "code",
      "execution_count": null,
      "metadata": {
        "id": "tciHR0Znhi29"
      },
      "outputs": [],
      "source": [
        "#plot it\n"
      ]
    },
    {
      "cell_type": "code",
      "execution_count": null,
      "metadata": {
        "id": "iZWx779khi29"
      },
      "outputs": [],
      "source": [
        "#find the area\n"
      ]
    },
    {
      "cell_type": "code",
      "execution_count": null,
      "metadata": {
        "id": "aFFCZi-1hi29"
      },
      "outputs": [],
      "source": []
    },
    {
      "cell_type": "code",
      "execution_count": null,
      "metadata": {
        "id": "gr-IYFmwhi29"
      },
      "outputs": [],
      "source": []
    },
    {
      "cell_type": "code",
      "execution_count": null,
      "metadata": {
        "id": "GVo2jIv6hi2-"
      },
      "outputs": [],
      "source": []
    },
    {
      "cell_type": "code",
      "execution_count": null,
      "metadata": {
        "id": "YfeAnlh_hi2-"
      },
      "outputs": [],
      "source": []
    },
    {
      "cell_type": "code",
      "execution_count": null,
      "metadata": {
        "id": "LysQwjJvhi2-"
      },
      "outputs": [],
      "source": []
    }
  ],
  "metadata": {
    "kernelspec": {
      "display_name": "Python 3 (ipykernel)",
      "language": "python",
      "name": "python3"
    },
    "language_info": {
      "codemirror_mode": {
        "name": "ipython",
        "version": 3
      },
      "file_extension": ".py",
      "mimetype": "text/x-python",
      "name": "python",
      "nbconvert_exporter": "python",
      "pygments_lexer": "ipython3",
      "version": "3.11.4"
    },
    "colab": {
      "provenance": [],
      "include_colab_link": true
    }
  },
  "nbformat": 4,
  "nbformat_minor": 0
}